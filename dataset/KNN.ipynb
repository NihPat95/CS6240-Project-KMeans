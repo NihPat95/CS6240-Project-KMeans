{
 "cells": [
  {
   "cell_type": "code",
   "execution_count": 1,
   "metadata": {},
   "outputs": [],
   "source": [
    "import pandas as pd"
   ]
  },
  {
   "cell_type": "code",
   "execution_count": 42,
   "metadata": {},
   "outputs": [],
   "source": [
    "rating=pd.read_csv('ratings.csv')\n",
    "rating.drop(columns=\"timestamp\", inplace=True)\n",
    "rating['movieId'] = rating['movieId'].astype(int)\n",
    "rating['userId'] = rating['userId'].astype(int)"
   ]
  },
  {
   "cell_type": "code",
   "execution_count": 49,
   "metadata": {},
   "outputs": [
    {
     "ename": "KeyboardInterrupt",
     "evalue": "",
     "output_type": "error",
     "traceback": [
      "\u001b[0;31m---------------------------------------------------------------------------\u001b[0m",
      "\u001b[0;31mKeyboardInterrupt\u001b[0m                         Traceback (most recent call last)",
      "\u001b[0;32m<ipython-input-49-09af8c7f6ad8>\u001b[0m in \u001b[0;36m<module>\u001b[0;34m\u001b[0m\n\u001b[1;32m      2\u001b[0m \u001b[0mmovie\u001b[0m \u001b[0;34m=\u001b[0m \u001b[0mmovie\u001b[0m\u001b[0;34m[\u001b[0m\u001b[0;34m[\u001b[0m\u001b[0;34m'id'\u001b[0m\u001b[0;34m,\u001b[0m\u001b[0;34m'original_title'\u001b[0m\u001b[0;34m,\u001b[0m\u001b[0;34m'vote_count'\u001b[0m\u001b[0;34m]\u001b[0m\u001b[0;34m]\u001b[0m\u001b[0;34m\u001b[0m\u001b[0;34m\u001b[0m\u001b[0m\n\u001b[1;32m      3\u001b[0m \u001b[0mmovie\u001b[0m \u001b[0;34m=\u001b[0m \u001b[0mmovie\u001b[0m\u001b[0;34m[\u001b[0m\u001b[0mmovie\u001b[0m\u001b[0;34m[\u001b[0m\u001b[0;34m'vote_count'\u001b[0m\u001b[0;34m]\u001b[0m\u001b[0;34m>\u001b[0m\u001b[0;36m30\u001b[0m\u001b[0;34m]\u001b[0m\u001b[0;34m\u001b[0m\u001b[0;34m\u001b[0m\u001b[0m\n\u001b[0;32m----> 4\u001b[0;31m \u001b[0mmovie\u001b[0m\u001b[0;34m.\u001b[0m\u001b[0mdropna\u001b[0m\u001b[0;34m(\u001b[0m\u001b[0minplace\u001b[0m\u001b[0;34m=\u001b[0m\u001b[0;32mTrue\u001b[0m\u001b[0;34m)\u001b[0m\u001b[0;34m\u001b[0m\u001b[0;34m\u001b[0m\u001b[0m\n\u001b[0m",
      "\u001b[0;32m/anaconda3/lib/python3.7/site-packages/pandas/core/frame.py\u001b[0m in \u001b[0;36mdropna\u001b[0;34m(self, axis, how, thresh, subset, inplace)\u001b[0m\n\u001b[1;32m   4303\u001b[0m \u001b[0;34m\u001b[0m\u001b[0m\n\u001b[1;32m   4304\u001b[0m         \u001b[0;32mif\u001b[0m \u001b[0minplace\u001b[0m\u001b[0;34m:\u001b[0m\u001b[0;34m\u001b[0m\u001b[0;34m\u001b[0m\u001b[0m\n\u001b[0;32m-> 4305\u001b[0;31m             \u001b[0mself\u001b[0m\u001b[0;34m.\u001b[0m\u001b[0m_update_inplace\u001b[0m\u001b[0;34m(\u001b[0m\u001b[0mresult\u001b[0m\u001b[0;34m)\u001b[0m\u001b[0;34m\u001b[0m\u001b[0;34m\u001b[0m\u001b[0m\n\u001b[0m\u001b[1;32m   4306\u001b[0m         \u001b[0;32melse\u001b[0m\u001b[0;34m:\u001b[0m\u001b[0;34m\u001b[0m\u001b[0;34m\u001b[0m\u001b[0m\n\u001b[1;32m   4307\u001b[0m             \u001b[0;32mreturn\u001b[0m \u001b[0mresult\u001b[0m\u001b[0;34m\u001b[0m\u001b[0;34m\u001b[0m\u001b[0m\n",
      "\u001b[0;32m/anaconda3/lib/python3.7/site-packages/pandas/core/generic.py\u001b[0m in \u001b[0;36m_update_inplace\u001b[0;34m(self, result, verify_is_copy)\u001b[0m\n\u001b[1;32m   3185\u001b[0m         \u001b[0mself\u001b[0m\u001b[0;34m.\u001b[0m\u001b[0m_clear_item_cache\u001b[0m\u001b[0;34m(\u001b[0m\u001b[0;34m)\u001b[0m\u001b[0;34m\u001b[0m\u001b[0;34m\u001b[0m\u001b[0m\n\u001b[1;32m   3186\u001b[0m         \u001b[0mself\u001b[0m\u001b[0;34m.\u001b[0m\u001b[0m_data\u001b[0m \u001b[0;34m=\u001b[0m \u001b[0mgetattr\u001b[0m\u001b[0;34m(\u001b[0m\u001b[0mresult\u001b[0m\u001b[0;34m,\u001b[0m \u001b[0;34m'_data'\u001b[0m\u001b[0;34m,\u001b[0m \u001b[0mresult\u001b[0m\u001b[0;34m)\u001b[0m\u001b[0;34m\u001b[0m\u001b[0;34m\u001b[0m\u001b[0m\n\u001b[0;32m-> 3187\u001b[0;31m         \u001b[0mself\u001b[0m\u001b[0;34m.\u001b[0m\u001b[0m_maybe_update_cacher\u001b[0m\u001b[0;34m(\u001b[0m\u001b[0mverify_is_copy\u001b[0m\u001b[0;34m=\u001b[0m\u001b[0mverify_is_copy\u001b[0m\u001b[0;34m)\u001b[0m\u001b[0;34m\u001b[0m\u001b[0;34m\u001b[0m\u001b[0m\n\u001b[0m\u001b[1;32m   3188\u001b[0m \u001b[0;34m\u001b[0m\u001b[0m\n\u001b[1;32m   3189\u001b[0m     \u001b[0;32mdef\u001b[0m \u001b[0madd_prefix\u001b[0m\u001b[0;34m(\u001b[0m\u001b[0mself\u001b[0m\u001b[0;34m,\u001b[0m \u001b[0mprefix\u001b[0m\u001b[0;34m)\u001b[0m\u001b[0;34m:\u001b[0m\u001b[0;34m\u001b[0m\u001b[0;34m\u001b[0m\u001b[0m\n",
      "\u001b[0;32m/anaconda3/lib/python3.7/site-packages/pandas/core/generic.py\u001b[0m in \u001b[0;36m_maybe_update_cacher\u001b[0;34m(self, clear, verify_is_copy)\u001b[0m\n\u001b[1;32m   2570\u001b[0m \u001b[0;34m\u001b[0m\u001b[0m\n\u001b[1;32m   2571\u001b[0m         \u001b[0;32mif\u001b[0m \u001b[0mverify_is_copy\u001b[0m\u001b[0;34m:\u001b[0m\u001b[0;34m\u001b[0m\u001b[0;34m\u001b[0m\u001b[0m\n\u001b[0;32m-> 2572\u001b[0;31m             \u001b[0mself\u001b[0m\u001b[0;34m.\u001b[0m\u001b[0m_check_setitem_copy\u001b[0m\u001b[0;34m(\u001b[0m\u001b[0mstacklevel\u001b[0m\u001b[0;34m=\u001b[0m\u001b[0;36m5\u001b[0m\u001b[0;34m,\u001b[0m \u001b[0mt\u001b[0m\u001b[0;34m=\u001b[0m\u001b[0;34m'referant'\u001b[0m\u001b[0;34m)\u001b[0m\u001b[0;34m\u001b[0m\u001b[0;34m\u001b[0m\u001b[0m\n\u001b[0m\u001b[1;32m   2573\u001b[0m \u001b[0;34m\u001b[0m\u001b[0m\n\u001b[1;32m   2574\u001b[0m         \u001b[0;32mif\u001b[0m \u001b[0mclear\u001b[0m\u001b[0;34m:\u001b[0m\u001b[0;34m\u001b[0m\u001b[0;34m\u001b[0m\u001b[0m\n",
      "\u001b[0;32m/anaconda3/lib/python3.7/site-packages/pandas/core/generic.py\u001b[0m in \u001b[0;36m_check_setitem_copy\u001b[0;34m(self, stacklevel, t, force)\u001b[0m\n\u001b[1;32m   2671\u001b[0m             \u001b[0;31m# the copy weakref\u001b[0m\u001b[0;34m\u001b[0m\u001b[0;34m\u001b[0m\u001b[0;34m\u001b[0m\u001b[0m\n\u001b[1;32m   2672\u001b[0m             \u001b[0;32mtry\u001b[0m\u001b[0;34m:\u001b[0m\u001b[0;34m\u001b[0m\u001b[0;34m\u001b[0m\u001b[0m\n\u001b[0;32m-> 2673\u001b[0;31m                 \u001b[0mgc\u001b[0m\u001b[0;34m.\u001b[0m\u001b[0mcollect\u001b[0m\u001b[0;34m(\u001b[0m\u001b[0;36m2\u001b[0m\u001b[0;34m)\u001b[0m\u001b[0;34m\u001b[0m\u001b[0;34m\u001b[0m\u001b[0m\n\u001b[0m\u001b[1;32m   2674\u001b[0m                 \u001b[0;32mif\u001b[0m \u001b[0;32mnot\u001b[0m \u001b[0mgc\u001b[0m\u001b[0;34m.\u001b[0m\u001b[0mget_referents\u001b[0m\u001b[0;34m(\u001b[0m\u001b[0mself\u001b[0m\u001b[0;34m.\u001b[0m\u001b[0m_is_copy\u001b[0m\u001b[0;34m(\u001b[0m\u001b[0;34m)\u001b[0m\u001b[0;34m)\u001b[0m\u001b[0;34m:\u001b[0m\u001b[0;34m\u001b[0m\u001b[0;34m\u001b[0m\u001b[0m\n\u001b[1;32m   2675\u001b[0m                     \u001b[0mself\u001b[0m\u001b[0;34m.\u001b[0m\u001b[0m_is_copy\u001b[0m \u001b[0;34m=\u001b[0m \u001b[0;32mNone\u001b[0m\u001b[0;34m\u001b[0m\u001b[0;34m\u001b[0m\u001b[0m\n",
      "\u001b[0;31mKeyboardInterrupt\u001b[0m: "
     ]
    }
   ],
   "source": [
    "movie=pd.read_csv('movies_metadata.csv')\n",
    "movie = movie[['id','original_title','vote_count']]\n",
    "movie = movie[movie['vote_count']>30]\n",
    "movie.dropna(inplace=True)"
   ]
  },
  {
   "cell_type": "markdown",
   "metadata": {},
   "source": [
    "# Get unique user ids"
   ]
  },
  {
   "cell_type": "code",
   "execution_count": 44,
   "metadata": {},
   "outputs": [
    {
     "data": {
      "text/html": [
       "<div>\n",
       "<style scoped>\n",
       "    .dataframe tbody tr th:only-of-type {\n",
       "        vertical-align: middle;\n",
       "    }\n",
       "\n",
       "    .dataframe tbody tr th {\n",
       "        vertical-align: top;\n",
       "    }\n",
       "\n",
       "    .dataframe thead th {\n",
       "        text-align: right;\n",
       "    }\n",
       "</style>\n",
       "<table border=\"1\" class=\"dataframe\">\n",
       "  <thead>\n",
       "    <tr style=\"text-align: right;\">\n",
       "      <th></th>\n",
       "      <th>userId</th>\n",
       "    </tr>\n",
       "  </thead>\n",
       "  <tbody>\n",
       "    <tr>\n",
       "      <th>count</th>\n",
       "      <td>270896</td>\n",
       "    </tr>\n",
       "    <tr>\n",
       "      <th>unique</th>\n",
       "      <td>270896</td>\n",
       "    </tr>\n",
       "    <tr>\n",
       "      <th>top</th>\n",
       "      <td>147100</td>\n",
       "    </tr>\n",
       "    <tr>\n",
       "      <th>freq</th>\n",
       "      <td>1</td>\n",
       "    </tr>\n",
       "  </tbody>\n",
       "</table>\n",
       "</div>"
      ],
      "text/plain": [
       "        userId\n",
       "count   270896\n",
       "unique  270896\n",
       "top     147100\n",
       "freq         1"
      ]
     },
     "execution_count": 44,
     "metadata": {},
     "output_type": "execute_result"
    }
   ],
   "source": [
    "userIds = rating[['userId']].copy()\n",
    "userIds.drop_duplicates(inplace=True)\n",
    "userIds = userIds.astype(str)\n",
    "userIds.describe()"
   ]
  },
  {
   "cell_type": "markdown",
   "metadata": {},
   "source": [
    "# Get unique movie ids "
   ]
  },
  {
   "cell_type": "code",
   "execution_count": 53,
   "metadata": {},
   "outputs": [],
   "source": [
    "movieIds = movie[['id']].copy()\n",
    "movieIds.drop_duplicates(inplace=True)\n",
    "movieIds.to_csv('movieIds', index=False)"
   ]
  },
  {
   "cell_type": "code",
   "execution_count": 47,
   "metadata": {},
   "outputs": [],
   "source": [
    "ur = rating.groupby(['userId'])['movieId','rating'].apply(lambda x: x.values.tolist())"
   ]
  },
  {
   "cell_type": "code",
   "execution_count": 48,
   "metadata": {},
   "outputs": [
    {
     "data": {
      "text/plain": [
       "<bound method NDFrame.head of userId\n",
       "1         [[110.0, 1.0], [147.0, 4.5], [858.0, 5.0], [12...\n",
       "2         [[5.0, 3.0], [25.0, 3.0], [32.0, 2.0], [58.0, ...\n",
       "3         [[480.0, 3.0], [500.0, 2.0], [527.0, 4.0], [85...\n",
       "4         [[223.0, 4.0], [415.0, 4.0], [648.0, 4.0], [10...\n",
       "5         [[7.0, 3.0], [157.0, 2.0], [296.0, 4.0], [541....\n",
       "6         [[11.0, 3.0], [1198.0, 3.0], [2565.0, 4.0], [2...\n",
       "7         [[293.0, 5.0], [318.0, 4.0], [2571.0, 4.0], [2...\n",
       "8         [[1.0, 4.0], [7.0, 2.0], [44.0, 3.0], [47.0, 4...\n",
       "9         [[1.0, 4.5], [150.0, 4.0], [342.0, 5.0], [497....\n",
       "10        [[150.0, 4.0], [153.0, 3.0], [165.0, 4.0], [29...\n",
       "11        [[32.0, 3.5], [34.0, 4.0], [47.0, 3.5], [110.0...\n",
       "12        [[1.0, 4.0], [16.0, 4.0], [17.0, 4.0], [29.0, ...\n",
       "13        [[1911.0, 2.0], [1965.0, 3.5], [2116.0, 4.5], ...\n",
       "14        [[293.0, 2.0], [318.0, 2.5], [2571.0, 4.5], [2...\n",
       "15        [[6.0, 4.0], [107.0, 3.5], [135.0, 0.5], [260....\n",
       "16        [[32.0, 4.5], [50.0, 5.0], [111.0, 5.0], [198....\n",
       "17        [[356.0, 5.0], [593.0, 4.0], [597.0, 5.0], [10...\n",
       "18        [[81.0, 5.0], [912.0, 5.0], [1193.0, 5.0], [12...\n",
       "19        [[327.0, 1.0], [481.0, 2.5], [880.0, 2.5], [11...\n",
       "20        [[1.0, 4.0], [39.0, 5.0], [150.0, 4.0], [161.0...\n",
       "21        [[519.0, 5.0], [1645.0, 5.0], [2006.0, 4.0], [...\n",
       "22        [[48.0, 1.0], [110.0, 5.0], [163.0, 4.0], [172...\n",
       "23        [[527.0, 4.0], [1104.0, 4.0], [1193.0, 5.0], [...\n",
       "24        [[1.0, 4.0], [2.0, 3.0], [6.0, 4.0], [16.0, 3....\n",
       "25        [[2.0, 3.0], [10.0, 3.0], [19.0, 2.0], [21.0, ...\n",
       "26        [[1923.0, 4.0], [1977.0, 4.0], [2478.0, 4.0], ...\n",
       "27        [[1.0, 3.5], [32.0, 3.5], [47.0, 0.5], [50.0, ...\n",
       "28        [[50.0, 4.0], [260.0, 4.5], [318.0, 4.5], [527...\n",
       "29        [[17.0, 4.0], [110.0, 3.0], [236.0, 1.0], [296...\n",
       "30        [[24.0, 3.0], [32.0, 4.0], [50.0, 5.0], [110.0...\n",
       "                                ...                        \n",
       "270867    [[32.0, 2.0], [110.0, 4.0], [296.0, 5.0], [318...\n",
       "270868    [[1.0, 4.0], [17.0, 4.0], [260.0, 4.5], [316.0...\n",
       "270869    [[1.0, 4.0], [2.0, 2.0], [34.0, 5.0], [39.0, 4...\n",
       "270870    [[168.0, 3.0], [265.0, 4.5], [318.0, 4.0], [47...\n",
       "270871    [[1.0, 5.0], [2.0, 2.5], [10.0, 4.0], [16.0, 4...\n",
       "270872    [[1.0, 3.5], [32.0, 3.0], [50.0, 4.0], [110.0,...\n",
       "270873    [[383.0, 2.0], [1019.0, 4.5], [1256.0, 2.5], [...\n",
       "270874    [[230.0, 4.0], [372.0, 1.0], [431.0, 3.0], [47...\n",
       "270875    [[1.0, 4.5], [47.0, 2.0], [296.0, 4.0], [587.0...\n",
       "270876    [[4.0, 2.5], [154.0, 4.5], [448.0, 4.0], [971....\n",
       "270877    [[2.0, 5.0], [10.0, 5.0], [11.0, 5.0], [15.0, ...\n",
       "270878    [[215.0, 5.0], [261.0, 3.5], [529.0, 2.5], [12...\n",
       "270879    [[1.0, 3.0], [2.0, 3.5], [10.0, 2.5], [23.0, 4...\n",
       "270880    [[920.0, 5.0], [934.0, 4.0], [1097.0, 4.0], [1...\n",
       "270881    [[52.0, 3.5], [58.0, 3.5], [70.0, 2.5], [168.0...\n",
       "270882    [[110.0, 5.0], [414.0, 3.0], [719.0, 5.0], [87...\n",
       "270883    [[111.0, 4.0], [150.0, 4.0], [165.0, 3.0], [23...\n",
       "270884    [[296.0, 4.0], [318.0, 4.5], [527.0, 4.0], [85...\n",
       "270885    [[19.0, 4.0], [23.0, 4.0], [32.0, 5.0], [47.0,...\n",
       "270886    [[293.0, 4.0], [296.0, 5.0], [318.0, 4.0], [77...\n",
       "270887    [[1.0, 5.0], [2.0, 5.0], [3.0, 4.0], [6.0, 5.0...\n",
       "270888    [[637.0, 4.0], [1196.0, 5.0], [1210.0, 4.0], [...\n",
       "270889    [[31.0, 3.5], [186.0, 2.5], [520.0, 3.0], [832...\n",
       "270890    [[415.0, 4.0], [480.0, 4.0], [749.0, 3.0], [92...\n",
       "270891    [[3.0, 3.0], [6.0, 3.0], [7.0, 4.0], [9.0, 3.0...\n",
       "270892    [[1.0, 4.0], [10.0, 3.5], [32.0, 4.0], [47.0, ...\n",
       "270893    [[1.0, 4.0], [34.0, 4.0], [47.0, 5.0], [50.0, ...\n",
       "270894    [[16.0, 2.0], [32.0, 2.0], [34.0, 0.5], [47.0,...\n",
       "270895    [[34.0, 4.0], [110.0, 4.0], [150.0, 5.0], [161...\n",
       "270896    [[1.0, 4.5], [11.0, 3.5], [17.0, 4.0], [19.0, ...\n",
       "Length: 270896, dtype: object>"
      ]
     },
     "execution_count": 48,
     "metadata": {},
     "output_type": "execute_result"
    }
   ],
   "source": [
    "ur.head"
   ]
  },
  {
   "cell_type": "code",
   "execution_count": 50,
   "metadata": {},
   "outputs": [],
   "source": [
    "ur.to_csv('userRatings')"
   ]
  },
  {
   "cell_type": "code",
   "execution_count": null,
   "metadata": {},
   "outputs": [],
   "source": []
  }
 ],
 "metadata": {
  "kernelspec": {
   "display_name": "Python 3",
   "language": "python",
   "name": "python3"
  },
  "language_info": {
   "codemirror_mode": {
    "name": "ipython",
    "version": 3
   },
   "file_extension": ".py",
   "mimetype": "text/x-python",
   "name": "python",
   "nbconvert_exporter": "python",
   "pygments_lexer": "ipython3",
   "version": "3.7.1"
  }
 },
 "nbformat": 4,
 "nbformat_minor": 2
}
